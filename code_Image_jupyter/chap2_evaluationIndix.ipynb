{
 "cells": [
  {
   "cell_type": "code",
   "execution_count": 1,
   "metadata": {},
   "outputs": [],
   "source": [
    "from skimage.metrics import structural_similarity as compare_ssim\n",
    "import math\n",
    "import cv2\n",
    "\n",
    "#计算两图像的均方误差 MSE\n",
    "def MSE(image0,image1):\n",
    "    [m,n]=image0.shape\n",
    "    MSE=0\n",
    "    for i in range(m):\n",
    "        for j in range(n):\n",
    "            MSE=MSE+(int(image0[i,j])-int(image1[i,j]))**2              #按公式计算误差累加和\n",
    "    MSE=MSE/(m*n)\n",
    "    return MSE\n",
    "\n",
    "# 计算两图像的信噪比 SNR\n",
    "def SNR(image0,image1):\n",
    "    tmp1 = 0\n",
    "    tmp2 = 0\n",
    "    [m, n] = image0.shape\n",
    "    for i in range(m):\n",
    "        for j in range(n):\n",
    "            tmp1 += pow(int(image0[i,j]),2)\n",
    "            tmp2 += pow(int(image0[i,j])-int(image1[i,j]),2)\n",
    "    snr = 10*math.log10(tmp1/tmp2)\n",
    "    return snr\n",
    "\n",
    "# 计算两图像的峰值信噪比 PSNR\n",
    "def PSNR(image0,image1):\n",
    "    mse = MSE(image0,image1)\n",
    "    psnr = 10*math.log10(pow(255,2)/mse)\n",
    "    return psnr\n",
    "\n",
    "# 计算两图像的平均绝对误差 MAE\n",
    "def MAE(image0,image1):\n",
    "    MAE=0\n",
    "    [m, n] = image0.shape\n",
    "    for i in range(m):\n",
    "        for j in range(n):\n",
    "            MAE += abs(image0[i, j] - image1[i, j])  # 按公式计算误差累加和\n",
    "    MAE = MAE / (m * n)\n",
    "    return MAE\n",
    "\n",
    "# 计算两图像的结构相似度 SSIM\n",
    "def SSIM(image0,image1):\n",
    "    # grayA = cv2.cvtColor(image0, cv2.COLOR_BGR2GRAY)\n",
    "    # grayB = cv2.cvtColor(image1, cv2.COLOR_BGR2GRAY)\n",
    "    grayA = image0\n",
    "    grayB = image1\n",
    "    (score, diff) = compare_ssim(grayA, grayB, full=True)\n",
    "    diff = (diff * 255).astype(\"uint8\")\n",
    "    return score"
   ]
  }
 ],
 "metadata": {
  "kernelspec": {
   "display_name": "Python 3 (ipykernel)",
   "language": "python",
   "name": "python3"
  },
  "language_info": {
   "codemirror_mode": {
    "name": "ipython",
    "version": 3
   },
   "file_extension": ".py",
   "mimetype": "text/x-python",
   "name": "python",
   "nbconvert_exporter": "python",
   "pygments_lexer": "ipython3",
   "version": "3.11.7"
  }
 },
 "nbformat": 4,
 "nbformat_minor": 4
}
