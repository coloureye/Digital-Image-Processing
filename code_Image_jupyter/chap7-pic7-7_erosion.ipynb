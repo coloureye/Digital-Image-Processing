{
 "cells": [
  {
   "cell_type": "code",
   "execution_count": 30,
   "metadata": {},
   "outputs": [
    {
     "data": {
      "image/png": "[encoded data removed]",
      "text/plain": [
       "<Figure size 1152x360 with 4 Axes>"
      ]
     },
     "metadata": {
      "needs_background": "light"
     },
     "output_type": "display_data"
    }
   ],
   "source": [
    "import numpy as np\n",
    "import cv2\n",
    "from matplotlib import pyplot as plt\n",
    "%matplotlib inline\n",
    "%config InlinBackend.figure_format=\"retina\"\n",
    "plt.rcParams['font.sans-serif']=['SimHei'] #用来正常显示中文标签\n",
    "plt.rcParams['axes.unicode_minus']=False #用来正常显示负\n",
    "\n",
    "img = cv2.imread(r'..\\img\\wirebond-mask.tif',0)\n",
    "_, img_binary = cv2.threshold(img, 80, 255, cv2.THRESH_BINARY + cv2.\\\n",
    "THRESH_OTSU)\n",
    "plt.figure(figsize=(16,5))\n",
    "plt.subplot(141)\n",
    "plt.axis(\"off\")\n",
    "plt.imshow(img_binary,cmap=\"gray\")\n",
    "i=1\n",
    "for kernelSize in [9,15,45]:\n",
    "    kernel = cv2.getStructuringElement(cv2.MORPH_RECT,(kernelSize,kernelSize))\n",
    "    img_result=cv2.erode(img_binary,kernel,iterations = 1)\n",
    "    i+=1\n",
    "    plt.subplot(1,4,i)\n",
    "    plt.axis(\"off\")\n",
    "    plt.imshow(img_result,cmap=\"gray\")\n",
    "plt.show()    "
   ]
  }
 ],
 "metadata": {
  "kernelspec": {
   "display_name": "Python 3",
   "language": "python",
   "name": "python3"
  },
  "language_info": {
   "codemirror_mode": {
    "name": "ipython",
    "version": 3
   },
   "file_extension": ".py",
   "mimetype": "text/x-python",
   "name": "python",
   "nbconvert_exporter": "python",
   "pygments_lexer": "ipython3",
   "version": "3.7.6"
  }
 },
 "nbformat": 4,
 "nbformat_minor": 4
}
