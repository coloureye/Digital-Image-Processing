{
 "cells": [
  {
   "cell_type": "code",
   "execution_count": 1,
   "metadata": {},
   "outputs": [
    {
     "name": "stdout",
     "output_type": "stream",
     "text": [
      "频域的乘积的傅里叶反变换=\n",
      " [[ 8.  9. 15.  7.  6.]\n",
      " [11. 17. 30. 19. 13.]\n",
      " [15. 30. 45. 30. 15.]\n",
      " [ 7. 21. 30. 23.  9.]\n",
      " [ 4. 13. 15. 11.  2.]]\n",
      "空域的卷积=\n",
      " [[ 8.  9. 15.  7.  6.]\n",
      " [11. 17. 30. 19. 13.]\n",
      " [15. 30. 45. 30. 15.]\n",
      " [ 7. 21. 30. 23.  9.]\n",
      " [ 4. 13. 15. 11.  2.]]\n"
     ]
    }
   ],
   "source": [
    "import numpy as np\n",
    "import scipy.signal as ss #引入scipy的signal模块\n",
    "\n",
    "# 验证卷积定理\n",
    "f=np.array([[8,1,6],[3,5,7],[4,9,2]])\n",
    "g=np.array([[1,1,1],[1,1,1],[1,1,1]])\n",
    "# 对两个离散序列进行扩展M=N=5\n",
    "fe=np.zeros((5,5))    \n",
    "ge=np.zeros((5,5)) \n",
    "fe[:3,:3]=f\n",
    "ge[:3,:3]=g\n",
    "#求扩展序列频域的乘积，再进行傅里叶反变换\n",
    "temp=np.fft.fft2(fe)*np.fft.fft2(ge)\n",
    "c=np.abs(np.fft.ifft2(temp))\n",
    "c1=c[:5,:5] \n",
    "print('频域的乘积的傅里叶反变换=\\n',c1)\n",
    "#求空域的卷积\n",
    "c=ss.convolve(fe,ge)\n",
    "c2=c[:5,:5]\n",
    "print('空域的卷积=\\n',c2)\n",
    "\n"
   ]
  }
 ],
 "metadata": {
  "kernelspec": {
   "display_name": "Python 3",
   "language": "python",
   "name": "python3"
  },
  "language_info": {
   "codemirror_mode": {
    "name": "ipython",
    "version": 3
   },
   "file_extension": ".py",
   "mimetype": "text/x-python",
   "name": "python",
   "nbconvert_exporter": "python",
   "pygments_lexer": "ipython3",
   "version": "3.7.6"
  }
 },
 "nbformat": 4,
 "nbformat_minor": 2
}
