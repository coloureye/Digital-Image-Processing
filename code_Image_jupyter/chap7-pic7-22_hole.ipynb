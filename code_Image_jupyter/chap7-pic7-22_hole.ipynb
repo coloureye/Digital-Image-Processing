{
 "cells": [
  {
   "cell_type": "code",
   "execution_count": 2,
   "metadata": {},
   "outputs": [],
   "source": [
    "import numpy as np\n",
    "import cv2\n",
    "from matplotlib import pyplot as plt\n",
    "%matplotlib inline\n",
    "%config InlinBackend.figure_format=\"retina\"\n",
    "plt.rcParams['font.sans-serif']=['SimHei'] #用来正常显示中文标签\n",
    "plt.rcParams['axes.unicode_minus']=False #用来正常显示负"
   ]
  },
  {
   "cell_type": "code",
   "execution_count": 3,
   "metadata": {},
   "outputs": [],
   "source": [
    "def fill_holes(imgBinary,kernel):\n",
    "    '''\n",
    "    孔洞填充\n",
    "    :param imgBinary: 待处理二值图像\n",
    "    :param kernel: 结构算子\n",
    "    :return: 填充孔洞后的图像\n",
    "    '''\n",
    "    # 原图取补得到MASK图像\n",
    "    mask = 255 - imgBinary\n",
    "    # 构造Marker图像\n",
    "    marker = np.zeros_like(imgBinary)\n",
    "    marker[0, :] = 255\n",
    "    marker[-1, :] = 255\n",
    "    marker[:, 0] = 255\n",
    "    marker[:, -1] = 255\n",
    "    marker_0 = marker.copy()\n",
    "    while True:\n",
    "        marker_pre = marker\n",
    "        dilation = cv2.dilate(marker, kernel)\n",
    "        marker = np.min((dilation, mask), axis=0)\n",
    "        if (marker_pre == marker).all():\n",
    "            break\n",
    "    dst = 255 - marker\n",
    "    filling = dst - imgBinary\n",
    "    return dst"
   ]
  },
  {
   "cell_type": "code",
   "execution_count": 46,
   "metadata": {},
   "outputs": [],
   "source": [
    "def fill_onehole(imgBinary,kernel,m1,n1,m2,n2):\n",
    "    '''\n",
    "    孔洞填充\n",
    "    :param imgBinary: 待处理二值图像\n",
    "    :param kernel: 结构算子\n",
    "    :m1,n1:左上角坐标\n",
    "    :m2,n3:右下角坐标\n",
    "    :return: 填充孔洞后的图像\n",
    "    '''\n",
    "    patch=imgBinary[m1:m2,n1:n2]\n",
    "    # 原图取补得到MASK图像\n",
    "    mask = 255 - patch\n",
    "    # 构造Marker图像\n",
    "    marker = np.zeros_like(patch)\n",
    "    marker[0, :] = 255\n",
    "    marker[-1, :] = 255\n",
    "    marker[:, 0] = 255\n",
    "    marker[:, -1] = 255\n",
    "    marker_0 = marker.copy()\n",
    "    while True:\n",
    "        marker_pre = marker\n",
    "        dilation = cv2.dilate(marker, kernel)\n",
    "        marker = np.min((dilation, mask), axis=0)\n",
    "        if (marker_pre == marker).all():\n",
    "            break\n",
    "    dst = 255 - marker\n",
    "    result=imgBinary.copy()\n",
    "    result[m1:m2,n1:n2]=dst\n",
    "    return result"
   ]
  },
  {
   "cell_type": "code",
   "execution_count": 47,
   "metadata": {},
   "outputs": [
    {
     "data": {
      "image/png": "[encoded data removed]",
      "text/plain": [
       "<Figure size 864x288 with 3 Axes>"
      ]
     },
     "metadata": {
      "needs_background": "light"
     },
     "output_type": "display_data"
    }
   ],
   "source": [
    "img = cv2.imread(r'..\\img\\hole.png',0)\n",
    "_, img_binary = cv2.threshold(img, 128, 255, cv2.THRESH_BINARY + cv2.THRESH_OTSU)\n",
    "kernelSize=3\n",
    "kernel = cv2.getStructuringElement(cv2.MORPH_ELLIPSE,(kernelSize,kernelSize))\n",
    "img_fillOne=fill_onehole(img_binary,kernel,50,130,130,220)\n",
    "img_fillAll=fill_holes(img_binary,kernel)\n",
    "\n",
    "plt.figure(figsize=(12,4))\n",
    "plt.subplot(131)\n",
    "plt.axis(\"off\")\n",
    "plt.imshow(img_binary,cmap=\"gray\")\n",
    "plt.subplot(1,3,2)\n",
    "plt.axis(\"off\")\n",
    "plt.imshow(img_fillOne,cmap=\"gray\")\n",
    "plt.subplot(1,3,3)\n",
    "plt.axis(\"off\")\n",
    "plt.imshow(img_fillAll,cmap=\"gray\")\n",
    "plt.show()  "
   ]
  },
  {
   "cell_type": "code",
   "execution_count": 34,
   "metadata": {},
   "outputs": [],
   "source": [
    "# m,n=img_binary.shape\n",
    "# print(m,n)\n",
    "box =np.uint8(np.ones_like(img_binary)*255)     \n",
    "img_ROI=img_binary[50:130,130:220]       #numpy数组的下标是[height,width,depth]\n",
    "cv2.imshow(\"color image\",img_binary)\n",
    "cv2.waitKey(0)\n",
    "cv2.imshow(\"ROI image\",img_ROI)\n",
    "cv2.waitKey(0)\n",
    "cv2.destroyAllWindows()\n"
   ]
  }
 ],
 "metadata": {
  "kernelspec": {
   "display_name": "Python 3",
   "language": "python",
   "name": "python3"
  },
  "language_info": {
   "codemirror_mode": {
    "name": "ipython",
    "version": 3
   },
   "file_extension": ".py",
   "mimetype": "text/x-python",
   "name": "python",
   "nbconvert_exporter": "python",
   "pygments_lexer": "ipython3",
   "version": "3.7.6"
  }
 },
 "nbformat": 4,
 "nbformat_minor": 4
}
