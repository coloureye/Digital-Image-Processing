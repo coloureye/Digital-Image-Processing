{
 "cells": [
  {
   "cell_type": "code",
   "execution_count": null,
   "metadata": {},
   "outputs": [],
   "source": []
  },
  {
   "cell_type": "markdown",
   "metadata": {},
   "source": [
    "# Python图像处理库\n",
    "> * __Pillow__(PIL：Python Image Library)，It provides image storage, image display, format conversion and so on. But the support for pixel level is not good.\n",
    "> * __Numpy__: Basic array and matrix operation \n",
    "> * __Opencv__:OpenCV(Open Source Computer Vision Library)是计算机视觉领域应用最广泛的开源工具包，基于C/C++，支持Linux/Windows/MacOS/Android/iOS，并提供了Python，Matlab和Java等语言的接口\n",
    "> * __Scipy__:  Including ndimage, a conventional image processing library. \n",
    "> * __scikit-image__: large and complete image processing library\n",
    "> * __ITK，VTK__: popular libraries in the industry\n",
    "# 机器学习建模工具库\n",
    "> * scikit learn 是简单高效的数据挖掘和数据分析工具，建立在 NumPy ，SciPy 和 matplotlib 上,开源，可商业使用.\n",
    "# 可视化工具库\n",
    "> * matplotlib"
   ]
  },
  {
   "cell_type": "markdown",
   "metadata": {},
   "source": [
    "# 安装opencv库\n",
    "> * 下载opencv_python-4.1.0.25-cp37-cp37m-win_amd64.whl\n",
    "> * 以管理员身份进入anaconda 终端\n",
    "> * pip install 安装源文件\n"
   ]
  },
  {
   "cell_type": "code",
   "execution_count": 4,
   "metadata": {},
   "outputs": [],
   "source": [
    "# 用OPenCV打开、显示和保存图像\n",
    "import cv2\n",
    "img = cv2.imread(r'../img/iris.jpg')    #参数0说明读入灰度图像\n",
    "cv2.namedWindow(\"image\",0)\n",
    "cv2.imshow('image',img)\n",
    "k=cv2.waitKey(0) \t\n",
    "if k == 27:         \t\t# wait for ESC key to exit\n",
    "    cv2.destroyAllWindows()\n",
    "elif k == ord('s'): \t\t\t# wait for 's' key to save and exit\n",
    "    cv2.imwrite('iris.png',img)  #保存图像\n",
    "    cv2.destroyAllWindows()\n",
    "\n"
   ]
  },
  {
   "cell_type": "markdown",
   "metadata": {},
   "source": [
    "(1)\t使用函数cv2.imread()读入图像。函数的第一个参数是读取图像的存取路径；第二个参数是读取图片的方式，有以下几种读取方式：\n",
    "–\tcv2.IMREAD_COLOR：读入一副彩色图像。图像的透明度会被忽略，这是默认参数；\n",
    "–\tcv2.IMREAD_GRAYSCALE：以灰度模式读入图像，此常量对应整数值为0；\n",
    "–\tcv2.IMREAD_UNCHANGED：读入的图像包括alpha通道。\n",
    "(2)\tcv2.namedWindow()函数可创建一个窗口，cv2.destroyAllWindows()函数可以删除所有已建立的窗口；cv2.destroyWindow()可删除特定的窗口。\n",
    "(3)\t函数cv2.imshow()可以在cv2.namedWindow()函数创建的窗口中显示图像，函数的第一个参数是窗口的名字；第二个参数是需要显示的图像。\n",
    "(4)\tcv2.waitKey()是一个键盘绑定函数。函数功能是让系统暂停下来，等待特定的时间（单位为毫秒），看用户是否从键盘输入数据。在等待的时间段内，如果用户按下任意键，这个函数会返回按键的ASCII码值，并且程序将会结束暂停继续运行。如果用户一直没有按键，则函数返回值为-1。如果设置函数的参数为0，那么系统将会无限期的等待键盘输入。它常用来检测特定键是否被按下，例如，本例题中的按键ESC和’s’是否被按下。"
   ]
  },
  {
   "cell_type": "code",
   "execution_count": null,
   "metadata": {},
   "outputs": [],
   "source": [
    "# 使用opencv打开图像，用matplotlib显示、保存图像\n",
    "#opencv是BGR模式，而matplot是RGB模式\n",
    "import cv2\n",
    "import matplotlib.pyplot as plt\n",
    "%matplotlib inline\n",
    "%config InlinBackend.figure_format=\"retina\"\n",
    "plt.rcParams['font.family']=['SimHei'] #用来正常显示中文\n",
    "plt.rcParams['axes.unicode_minus']=False #用来正常显示负号\n",
    "\n",
    "img_BGR = cv2.imread(r'..\\img\\iris.jpg')\n",
    "img_RGB=cv2.cvtColor(img_BGR,cv2.COLOR_BGR2RGB)\n",
    "\n",
    "plt.figure()\n",
    "plt.subplot(121)\n",
    "plt.axis(\"off\")\n",
    "plt.title('BGR模式的彩色图像')\n",
    "plt.imshow(img_BGR)\n",
    "\n",
    "plt.subplot(122)\n",
    "plt.axis(\"off\")\n",
    "plt.title('RGB模式的彩色图像')\n",
    "plt.imshow(img_RGB)\n",
    "plt.savefig(\"BGR2RGB.jpg\")   \n",
    "plt.show()"
   ]
  },
  {
   "cell_type": "markdown",
   "metadata": {},
   "source": [
    "(1)\tMatplotib默认情况不支持中文，一个简单的中文解决方案是添加语句：plt.rcParams['font.family']=['SimHei']，所设置的参数是本机中安装了的字体名。\n",
    "(2)\t需要注意：OpenCV读取的彩色图像是BGR模式，直接用Matplotib显示时，实际上是将蓝色通道当作红色通道、红色通道当作蓝色通道来显示。\n"
   ]
  },
  {
   "cell_type": "code",
   "execution_count": null,
   "metadata": {},
   "outputs": [],
   "source": [
    "'''提取感兴趣ROI（Region Of Interest）区域'''\n",
    "import numpy as np\n",
    "import cv2\n",
    "img_color = cv2.imread(r'..\\img\\alphabet.jpg')\n",
    "print(type(img_color))   \t\t\t\t\t#打印输出所读入图像数据的类型，是NumPy数组\n",
    "# img_gray=cv2.cvtColor(img_color, cv2.COLOR_BGR2GRAY)\n",
    "# cv2.rectangle(img_color,(160,140),(190,170),(0,0,255),3)  #OpenCV数组下标是[width，height，depth]\n",
    "# img_ROI=img_gray[140:170,160:190]  \t#NumPy数组的下标是[height,width,depth]\n",
    "\n",
    "# cv2.imshow(\"color image\",img_color)\n",
    "# cv2.waitKey(0)\n",
    "# cv2.imshow(\"ROI image\",img_ROI)\n",
    "# cv2.waitKey(0)\n",
    "# cv2.destroyAllWindows()"
   ]
  },
  {
   "cell_type": "code",
   "execution_count": null,
   "metadata": {},
   "outputs": [],
   "source": [
    "# 用OPenCV打开、显示和保存图像\n",
    "import cv2\n",
    "img0 = cv2.imread(r'../img/mapleleaf.tif')    #参数0说明读入灰度图像\n",
    "font=cv2.FONT_HERSHEY_COMPLEX\n",
    "color=(255,255,255)\n",
    "path=\".\\\\studentImg\\\\mapleleaf\"\n",
    "bj=\"2_\"\n",
    "for i in range(1,35):    \n",
    "    wstr=bj+str(i)\n",
    "    img=img0.copy()\n",
    "    cv2.putText(img,wstr,(10,30),font,1,color,3) \n",
    "    cv2.namedWindow(\"image\", cv2.WINDOW_AUTOSIZE)\n",
    "    cv2.imshow('image',img)\n",
    "    k=cv2.waitKey(0) \t\n",
    "    if k == 27:         \t\t# wait for ESC key to exit\n",
    "        cv2.destroyWindow(\"image\")\n",
    "    elif k == ord('s'):    # wait for 's' key to save and exit\n",
    "        filename=path+wstr+\".jpg\"\n",
    "        cv2.imwrite(filename,img)  #保存图像\n",
    "cv2.destroyAllWindows()"
   ]
  },
  {
   "cell_type": "code",
   "execution_count": null,
   "metadata": {},
   "outputs": [],
   "source": [
    "# 用OPenCV打开、显示和保存图像\n",
    "import cv2\n",
    "img = cv2.imread(r'../img/iris.jpg')    #读入\n",
    "cv2.namedWindow(\"image\", cv2.WINDOW_AUTOSIZE)\n",
    "cv2.imshow('image',img)               #显示\n",
    "cv2.waitKey(0) \t\n",
    "cv2.imwrite('iris.png',img)  #保存图像\n",
    "cv2.destroyAllWindows()"
   ]
  },
  {
   "cell_type": "code",
   "execution_count": null,
   "metadata": {},
   "outputs": [],
   "source": [
    "print(\"%5.2f two %s\" % (3.1415926, 'three'))\n",
    "\n"
   ]
  },
  {
   "cell_type": "code",
   "execution_count": null,
   "metadata": {},
   "outputs": [],
   "source": [
    "x = [1,2,'hello']  #列表\n",
    "y = (1,2,'hello') #元组：枷锁\n",
    "z={1,2,1,1,'hello'}  #集合\n",
    "d={\"name\":\"cai\",\"sex\":\"female\"}#字典 键值对"
   ]
  },
  {
   "cell_type": "code",
   "execution_count": null,
   "metadata": {},
   "outputs": [],
   "source": [
    "for i in x:\n",
    "    print(i)"
   ]
  },
  {
   "cell_type": "code",
   "execution_count": null,
   "metadata": {},
   "outputs": [],
   "source": [
    "print(x[0:2:1])#[起始，终止）\n",
    "print(x[-1::-1])"
   ]
  },
  {
   "cell_type": "code",
   "execution_count": null,
   "metadata": {},
   "outputs": [],
   "source": [
    "import cv2\n",
    "cv2.bl"
   ]
  }
 ],
 "metadata": {
  "kernelspec": {
   "display_name": "Python 3 (ipykernel)",
   "language": "python",
   "name": "python3"
  },
  "language_info": {
   "codemirror_mode": {
    "name": "ipython",
    "version": 3
   },
   "file_extension": ".py",
   "mimetype": "text/x-python",
   "name": "python",
   "nbconvert_exporter": "python",
   "pygments_lexer": "ipython3",
   "version": "3.11.7"
  }
 },
 "nbformat": 4,
 "nbformat_minor": 4
}
