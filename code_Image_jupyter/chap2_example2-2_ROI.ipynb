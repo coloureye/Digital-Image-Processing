{
 "cells": [
  {
   "cell_type": "code",
   "execution_count": 1,
   "metadata": {},
   "outputs": [
    {
     "name": "stdout",
     "output_type": "stream",
     "text": [
      "<class 'numpy.ndarray'>\n"
     ]
    }
   ],
   "source": [
    "# 图像ROI区域提取\n",
    "import numpy as np\n",
    "import cv2\n",
    "\n",
    "img_color = cv2.imread(r'..\\img\\alphabet.jpg')\n",
    "img_gray=cv2.cvtColor(img_color, cv2.COLOR_BGR2GRAY)\n",
    "print(type(img_gray))   \t\t\t#打印输出所读入图像的类型\n",
    "cv2.rectangle(img_color,(160,140),(190,170),(0,0,255),3)  #openCV数组下标是[width，height，depth]\n",
    "img_ROI=img_gray[140:170,160:190]       #numpy数组的下标是[height,width,depth]\n",
    "cv2.imshow(\"color image\",img_color)\n",
    "cv2.waitKey(0)\n",
    "cv2.imshow(\"ROI image\",img_ROI)\n",
    "cv2.waitKey(0)\n",
    "cv2.destroyAllWindows()"
   ]
  },
  {
   "cell_type": "code",
   "execution_count": null,
   "metadata": {},
   "outputs": [],
   "source": [
    "#numpy数组元素索引、切片\n",
    "import numpy as np \n",
    "# a = np.arange(10)  #一维数组\n",
    "# print(a[2:7:2])  \n",
    "# print(a[::2])\n",
    "a = np.array([[1,2,3],[3,4,5],[4,5,6]]) #二维数组\n",
    "print(a)\n",
    "\n",
    "print (a[:,1])   # 第2列元素\n",
    "# # print (a[1,...])   # 第2行元素\n",
    "print (a[0,::2])  #\n",
    "# # # print(a[0][1:]) \n",
    "print(a[1:3,1:3])"
   ]
  },
  {
   "cell_type": "code",
   "execution_count": 1,
   "metadata": {},
   "outputs": [
    {
     "name": "stdout",
     "output_type": "stream",
     "text": [
      "[[[ 0  1  2  3  4]\n",
      "  [ 5  6  7  8  9]\n",
      "  [10 11 12 13 14]\n",
      "  [15 16 17 18 19]]\n",
      "\n",
      " [[20 21 22 23 24]\n",
      "  [25 26 27 28 29]\n",
      "  [30 31 32 33 34]\n",
      "  [35 36 37 38 39]]\n",
      "\n",
      " [[40 41 42 43 44]\n",
      "  [45 46 47 48 49]\n",
      "  [50 51 52 53 54]\n",
      "  [55 56 57 58 59]]]\n",
      "22\n",
      "(3, 4, 5)\n"
     ]
    }
   ],
   "source": [
    "#numpy的下标是[z,y,x]\n",
    "import numpy as np\n",
    "a=np.array(np.arange(60))\n",
    "b=a.reshape(3,4,5)\n",
    "print(b)\n",
    "print(b[1,0,2])\n",
    "print(b.shape)"
   ]
  },
  {
   "cell_type": "code",
   "execution_count": 4,
   "metadata": {},
   "outputs": [
    {
     "name": "stdout",
     "output_type": "stream",
     "text": [
      "(6, 6, 3)\n",
      "[[[255 255 255]\n",
      "  [255 255 255]\n",
      "  [255 255 255]\n",
      "  [255 255 255]\n",
      "  [255 255 255]\n",
      "  [255 255 255]]\n",
      "\n",
      " [[255 255 255]\n",
      "  [255 255 255]\n",
      "  [255 255 255]\n",
      "  [255 255 255]\n",
      "  [255 255 255]\n",
      "  [255 255 255]]\n",
      "\n",
      " [[255 255 255]\n",
      "  [183 183 183]\n",
      "  [ 64  64  64]\n",
      "  [159 159 159]\n",
      "  [255 255 255]\n",
      "  [255 255 255]]\n",
      "\n",
      " [[255 255 255]\n",
      "  [ 24  24  24]\n",
      "  [  0   0   0]\n",
      "  [  8   8   8]\n",
      "  [255 255 255]\n",
      "  [255 255 255]]\n",
      "\n",
      " [[255 255 255]\n",
      "  [  0   0   0]\n",
      "  [  0   0   0]\n",
      "  [  0   0   0]\n",
      "  [255 255 255]\n",
      "  [255 255 255]]\n",
      "\n",
      " [[255 255 255]\n",
      "  [  0   0   0]\n",
      "  [  0   0   0]\n",
      "  [  0   0   0]\n",
      "  [255 255 255]\n",
      "  [255 255 255]]]\n"
     ]
    }
   ],
   "source": [
    "import numpy as np\n",
    "import cv2\n",
    "\n",
    "img_color = cv2.imread(r'.\\img\\1.png')\n",
    "print(img_color.shape)\n",
    "print(img_color)"
   ]
  },
  {
   "cell_type": "code",
   "execution_count": null,
   "metadata": {},
   "outputs": [],
   "source": [
    "#numpy.array(object, dtype = None, copy = True, order = None, subok = False, ndmin = 0)\n",
    "#order的含义\n",
    "a = np.array([[0, 1],[2, 3],[4, 5]]) \n",
    "b=np.reshape(a, (2, 3), order='F')\n",
    "print(b)"
   ]
  },
  {
   "cell_type": "markdown",
   "metadata": {},
   "source": []
  }
 ],
 "metadata": {
  "kernelspec": {
   "display_name": "Python 3 (ipykernel)",
   "language": "python",
   "name": "python3"
  },
  "language_info": {
   "codemirror_mode": {
    "name": "ipython",
    "version": 3
   },
   "file_extension": ".py",
   "mimetype": "text/x-python",
   "name": "python",
   "nbconvert_exporter": "python",
   "pygments_lexer": "ipython3",
   "version": "3.11.7"
  }
 },
 "nbformat": 4,
 "nbformat_minor": 4
}
