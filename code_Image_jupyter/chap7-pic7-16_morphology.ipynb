{
 "cells": [
  {
   "cell_type": "code",
   "execution_count": 1,
   "metadata": {},
   "outputs": [
    {
     "data": {
      "image/png": "[encoded data removed]",
      "text/plain": [
       "<Figure size 864x288 with 5 Axes>"
      ]
     },
     "metadata": {
      "needs_background": "light"
     },
     "output_type": "display_data"
    }
   ],
   "source": [
    "import numpy as np\n",
    "import cv2\n",
    "from matplotlib import pyplot as plt\n",
    "%matplotlib inline\n",
    "%config InlinBackend.figure_format=\"retina\"\n",
    "plt.rcParams['font.sans-serif']=['SimHei'] #用来正常显示中文标签\n",
    "plt.rcParams['axes.unicode_minus']=False #用来正常显示负\n",
    "\n",
    "img = cv2.imread(r'..\\img\\morphology.png',0)\n",
    "_, img_binary = cv2.threshold(img, 128, 255, cv2.THRESH_BINARY + cv2.THRESH_OTSU)\n",
    "kernelSize=33\n",
    "kernel = cv2.getStructuringElement(cv2.MORPH_ELLIPSE,(kernelSize,kernelSize))\n",
    "img_erode = cv2.erode(img_binary,kernel,iterations = 1)\n",
    "img_dilate = cv2.dilate(img_binary, kernel, iterations=1)\n",
    "img_open = cv2.morphologyEx(img_binary, cv2.MORPH_OPEN, kernel)\n",
    "img_close = cv2.morphologyEx(img_binary, cv2.MORPH_CLOSE, kernel)\n",
    "plt.figure(figsize=(12,4))\n",
    "plt.subplot(151)\n",
    "plt.axis(\"off\")\n",
    "plt.imshow(img_binary,cmap=\"gray\")\n",
    "plt.subplot(1,5,2)\n",
    "plt.axis(\"off\")\n",
    "plt.imshow(img_erode,cmap=\"gray\")\n",
    "plt.subplot(1,5,3)\n",
    "plt.axis(\"off\")\n",
    "plt.imshow(img_dilate,cmap=\"gray\")\n",
    "plt.subplot(1,5,4)\n",
    "plt.axis(\"off\")\n",
    "plt.imshow(img_open,cmap=\"gray\")\n",
    "plt.subplot(1,5,5)\n",
    "plt.axis(\"off\")\n",
    "plt.imshow(img_close,cmap=\"gray\")\n",
    "plt.show()  "
   ]
  },
  {
   "cell_type": "code",
   "execution_count": 17,
   "metadata": {},
   "outputs": [
    {
     "data": {
      "image/png": "[encoded data removed]",
      "text/plain": [
       "<Figure size 864x432 with 4 Axes>"
      ]
     },
     "metadata": {
      "needs_background": "light"
     },
     "output_type": "display_data"
    }
   ],
   "source": [
    "import numpy as np\n",
    "import cv2\n",
    "from matplotlib import pyplot as plt\n",
    "%matplotlib inline\n",
    "%config InlinBackend.figure_format=\"retina\"\n",
    "plt.rcParams['font.sans-serif']=['SimHei'] #用来正常显示中文标签\n",
    "plt.rcParams['axes.unicode_minus']=False #用来正常显示负\n",
    "\n",
    "img = cv2.imread(r'.\\img\\mapleleaf.tif',0)\n",
    "_, img_binary = cv2.threshold(img, 128, 255, cv2.THRESH_BINARY + cv2.THRESH_OTSU)\n",
    "plt.figure(figsize=(12,6))\n",
    "plt.subplot(141)\n",
    "plt.axis(\"off\")\n",
    "plt.imshow(img_binary,cmap=\"gray\")\n",
    "i=1\n",
    "for kernelSize in [3,9,15]:\n",
    "    kernel = cv2.getStructuringElement(cv2.MORPH_RECT,(kernelSize,kernelSize))\n",
    "    img_result = cv2.morphologyEx(img_binary, cv2.MORPH_GRADIENT, kernel)\n",
    "    i+=1\n",
    "    plt.subplot(1,4,i)\n",
    "    plt.axis(\"off\")\n",
    "    plt.imshow(img_result,cmap=\"gray\")\n",
    "plt.show()  "
   ]
  }
 ],
 "metadata": {
  "kernelspec": {
   "display_name": "Python 3",
   "language": "python",
   "name": "python3"
  },
  "language_info": {
   "codemirror_mode": {
    "name": "ipython",
    "version": 3
   },
   "file_extension": ".py",
   "mimetype": "text/x-python",
   "name": "python",
   "nbconvert_exporter": "python",
   "pygments_lexer": "ipython3",
   "version": "3.7.6"
  }
 },
 "nbformat": 4,
 "nbformat_minor": 4
}
